{
 "cells": [
  {
   "cell_type": "code",
   "execution_count": 1,
   "id": "ab7db5da",
   "metadata": {
    "ExecuteTime": {
     "end_time": "2023-03-15T03:38:54.308930Z",
     "start_time": "2023-03-15T03:38:53.675519Z"
    },
    "pycharm": {
     "name": "#%%\n"
    }
   },
   "outputs": [],
   "source": [
    "import pandas as pd"
   ]
  },
  {
   "cell_type": "code",
   "execution_count": 6,
   "id": "58d4a45f",
   "metadata": {
    "ExecuteTime": {
     "end_time": "2023-03-15T03:41:05.165100Z",
     "start_time": "2023-03-15T03:41:05.115031Z"
    },
    "pycharm": {
     "name": "#%%\n"
    }
   },
   "outputs": [
    {
     "data": {
      "text/html": [
       "<div>\n",
       "<style scoped>\n",
       "    .dataframe tbody tr th:only-of-type {\n",
       "        vertical-align: middle;\n",
       "    }\n",
       "\n",
       "    .dataframe tbody tr th {\n",
       "        vertical-align: top;\n",
       "    }\n",
       "\n",
       "    .dataframe thead th {\n",
       "        text-align: right;\n",
       "    }\n",
       "</style>\n",
       "<table border=\"1\" class=\"dataframe\">\n",
       "  <thead>\n",
       "    <tr style=\"text-align: right;\">\n",
       "      <th></th>\n",
       "      <th>노선명</th>\n",
       "      <th>ROUTEID</th>\n",
       "    </tr>\n",
       "  </thead>\n",
       "  <tbody>\n",
       "    <tr>\n",
       "      <th>0</th>\n",
       "      <td>0017</td>\n",
       "      <td>100100124</td>\n",
       "    </tr>\n",
       "    <tr>\n",
       "      <th>1</th>\n",
       "      <td>01</td>\n",
       "      <td>100100001</td>\n",
       "    </tr>\n",
       "    <tr>\n",
       "      <th>2</th>\n",
       "      <td>0411</td>\n",
       "      <td>104000012</td>\n",
       "    </tr>\n",
       "    <tr>\n",
       "      <th>3</th>\n",
       "      <td>100</td>\n",
       "      <td>100100549</td>\n",
       "    </tr>\n",
       "    <tr>\n",
       "      <th>4</th>\n",
       "      <td>101</td>\n",
       "      <td>100100006</td>\n",
       "    </tr>\n",
       "  </tbody>\n",
       "</table>\n",
       "</div>"
      ],
      "text/plain": [
       "    노선명    ROUTEID\n",
       "0  0017  100100124\n",
       "1    01  100100001\n",
       "2  0411  104000012\n",
       "3   100  100100549\n",
       "4   101  100100006"
      ]
     },
     "execution_count": 6,
     "metadata": {},
     "output_type": "execute_result"
    }
   ],
   "source": [
    "bus_course = pd.read_excel('./datasets/seoul_busId_course.xlsx')\n",
    "bus_course.head()"
   ]
  },
  {
   "cell_type": "code",
   "execution_count": 7,
   "id": "f0da1dbf",
   "metadata": {
    "ExecuteTime": {
     "end_time": "2023-03-15T03:41:06.849249Z",
     "start_time": "2023-03-15T03:41:05.633316Z"
    },
    "pycharm": {
     "name": "#%%\n"
    }
   },
   "outputs": [
    {
     "data": {
      "text/html": [
       "<div>\n",
       "<style scoped>\n",
       "    .dataframe tbody tr th:only-of-type {\n",
       "        vertical-align: middle;\n",
       "    }\n",
       "\n",
       "    .dataframe tbody tr th {\n",
       "        vertical-align: top;\n",
       "    }\n",
       "\n",
       "    .dataframe thead th {\n",
       "        text-align: right;\n",
       "    }\n",
       "</style>\n",
       "<table border=\"1\" class=\"dataframe\">\n",
       "  <thead>\n",
       "    <tr style=\"text-align: right;\">\n",
       "      <th></th>\n",
       "      <th>NODE_ID</th>\n",
       "      <th>ARS_ID</th>\n",
       "      <th>정류소명</th>\n",
       "      <th>X좌표</th>\n",
       "      <th>Y좌표</th>\n",
       "    </tr>\n",
       "  </thead>\n",
       "  <tbody>\n",
       "    <tr>\n",
       "      <th>0</th>\n",
       "      <td>100000001</td>\n",
       "      <td>1001</td>\n",
       "      <td>종로2가사거리</td>\n",
       "      <td>126.987750</td>\n",
       "      <td>37.569765</td>\n",
       "    </tr>\n",
       "    <tr>\n",
       "      <th>1</th>\n",
       "      <td>100000002</td>\n",
       "      <td>1002</td>\n",
       "      <td>창경궁.서울대학교병원</td>\n",
       "      <td>126.996566</td>\n",
       "      <td>37.579183</td>\n",
       "    </tr>\n",
       "    <tr>\n",
       "      <th>2</th>\n",
       "      <td>100000003</td>\n",
       "      <td>1003</td>\n",
       "      <td>명륜3가.성대입구</td>\n",
       "      <td>126.998340</td>\n",
       "      <td>37.582671</td>\n",
       "    </tr>\n",
       "    <tr>\n",
       "      <th>3</th>\n",
       "      <td>100000004</td>\n",
       "      <td>1004</td>\n",
       "      <td>종로2가.삼일교</td>\n",
       "      <td>126.987613</td>\n",
       "      <td>37.568579</td>\n",
       "    </tr>\n",
       "    <tr>\n",
       "      <th>4</th>\n",
       "      <td>100000005</td>\n",
       "      <td>1005</td>\n",
       "      <td>혜화동로터리.여운형활동터</td>\n",
       "      <td>127.001744</td>\n",
       "      <td>37.586243</td>\n",
       "    </tr>\n",
       "  </tbody>\n",
       "</table>\n",
       "</div>"
      ],
      "text/plain": [
       "     NODE_ID  ARS_ID           정류소명         X좌표        Y좌표\n",
       "0  100000001    1001        종로2가사거리  126.987750  37.569765\n",
       "1  100000002    1002    창경궁.서울대학교병원  126.996566  37.579183\n",
       "2  100000003    1003      명륜3가.성대입구  126.998340  37.582671\n",
       "3  100000004    1004       종로2가.삼일교  126.987613  37.568579\n",
       "4  100000005    1005  혜화동로터리.여운형활동터  127.001744  37.586243"
      ]
     },
     "execution_count": 7,
     "metadata": {},
     "output_type": "execute_result"
    }
   ],
   "source": [
    "stop_location = pd.read_excel('./datasets/seoul_busStop_location.xlsx')\n",
    "stop_location.head()"
   ]
  },
  {
   "cell_type": "code",
   "execution_count": null,
   "id": "b1f3ac3b",
   "metadata": {
    "pycharm": {
     "name": "#%%\n"
    }
   },
   "outputs": [],
   "source": []
  }
 ],
 "metadata": {
  "hide_input": false,
  "kernelspec": {
   "display_name": "Python 3 (ipykernel)",
   "language": "python",
   "name": "python3"
  },
  "language_info": {
   "codemirror_mode": {
    "name": "ipython",
    "version": 3
   },
   "file_extension": ".py",
   "mimetype": "text/x-python",
   "name": "python",
   "nbconvert_exporter": "python",
   "pygments_lexer": "ipython3",
   "version": "3.8.15"
  },
  "toc": {
   "base_numbering": 1,
   "nav_menu": {},
   "number_sections": true,
   "sideBar": true,
   "skip_h1_title": false,
   "title_cell": "Table of Contents",
   "title_sidebar": "Contents",
   "toc_cell": false,
   "toc_position": {},
   "toc_section_display": true,
   "toc_window_display": false
  },
  "varInspector": {
   "cols": {
    "lenName": 16,
    "lenType": 16,
    "lenVar": 40
   },
   "kernels_config": {
    "python": {
     "delete_cmd_postfix": "",
     "delete_cmd_prefix": "del ",
     "library": "var_list.py",
     "varRefreshCmd": "print(var_dic_list())"
    },
    "r": {
     "delete_cmd_postfix": ") ",
     "delete_cmd_prefix": "rm(",
     "library": "var_list.r",
     "varRefreshCmd": "cat(var_dic_list()) "
    }
   },
   "types_to_exclude": [
    "module",
    "function",
    "builtin_function_or_method",
    "instance",
    "_Feature"
   ],
   "window_display": false
  }
 },
 "nbformat": 4,
 "nbformat_minor": 5
}